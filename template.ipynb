{
 "cells": [
  {
   "attachments": {},
   "cell_type": "markdown",
   "metadata": {},
   "source": [
    "# Your Title Here\n",
    "\n",
    "**Name(s)**: (your name(s) here)\n",
    "\n",
    "**Website Link**: (your website link)"
   ]
  },
  {
   "attachments": {},
   "cell_type": "markdown",
   "metadata": {},
   "source": [
    "## Code"
   ]
  },
  {
   "cell_type": "code",
   "execution_count": 2,
   "metadata": {
    "ExecuteTime": {
     "end_time": "2019-10-31T23:36:28.652554Z",
     "start_time": "2019-10-31T23:36:27.180520Z"
    }
   },
   "outputs": [],
   "source": [
    "import pandas as pd\n",
    "import numpy as np\n",
    "import os\n",
    "\n",
    "import plotly.express as px\n",
    "pd.options.plotting.backend = 'plotly'"
   ]
  },
  {
   "attachments": {},
   "cell_type": "markdown",
   "metadata": {},
   "source": [
    "### Cleaning and EDA"
   ]
  },
  {
   "cell_type": "code",
   "execution_count": 3,
   "metadata": {
    "ExecuteTime": {
     "end_time": "2019-10-31T23:36:28.657068Z",
     "start_time": "2019-10-31T23:36:28.654650Z"
    }
   },
   "outputs": [],
   "source": [
    "# TODO\n",
    "\n",
    "rows_to_skip = list(range(5))\n",
    "df = pd.read_csv('outage.csv', skiprows=rows_to_skip, index_col='OBS')\n",
    "\n",
    "# Combine the units line and column names, drop unecessary rows and columns\n",
    "column = np.array(df.columns).astype('str')\n",
    "unites = np.array(df.iloc[0].fillna('')).astype('str')\n",
    "unites = [\"(\" + i + \")\" for i in unites]\n",
    "for i in range(len(unites)):\n",
    "    if unites[i] == '()':\n",
    "        unites[i] = ''\n",
    "combined_column = np.core.defchararray.add(column, unites)\n",
    "df.columns = combined_column\n",
    "df = df.reset_index().drop(0).drop('variables(Units)', axis=1).reset_index(drop=True)"
   ]
  },
  {
   "cell_type": "code",
   "execution_count": 20,
   "metadata": {},
   "outputs": [
    {
     "data": {
      "text/html": [
       "<div>\n",
       "<style scoped>\n",
       "    .dataframe tbody tr th:only-of-type {\n",
       "        vertical-align: middle;\n",
       "    }\n",
       "\n",
       "    .dataframe tbody tr th {\n",
       "        vertical-align: top;\n",
       "    }\n",
       "\n",
       "    .dataframe thead th {\n",
       "        text-align: right;\n",
       "    }\n",
       "</style>\n",
       "<table border=\"1\" class=\"dataframe\">\n",
       "  <thead>\n",
       "    <tr style=\"text-align: right;\">\n",
       "      <th></th>\n",
       "      <th>OUTAGE.RESTORATION</th>\n",
       "      <th>OUTAGE.START</th>\n",
       "    </tr>\n",
       "  </thead>\n",
       "  <tbody>\n",
       "    <tr>\n",
       "      <th>0</th>\n",
       "      <td>2011-07-03 20:00:00</td>\n",
       "      <td>2011-07-01 17:00:00</td>\n",
       "    </tr>\n",
       "    <tr>\n",
       "      <th>1</th>\n",
       "      <td>2014-05-11 18:39:00</td>\n",
       "      <td>2014-05-11 18:38:00</td>\n",
       "    </tr>\n",
       "    <tr>\n",
       "      <th>2</th>\n",
       "      <td>2010-10-28 22:00:00</td>\n",
       "      <td>2010-10-26 20:00:00</td>\n",
       "    </tr>\n",
       "    <tr>\n",
       "      <th>3</th>\n",
       "      <td>2012-06-20 23:00:00</td>\n",
       "      <td>2012-06-19 04:30:00</td>\n",
       "    </tr>\n",
       "    <tr>\n",
       "      <th>4</th>\n",
       "      <td>2015-07-19 07:00:00</td>\n",
       "      <td>2015-07-18 02:00:00</td>\n",
       "    </tr>\n",
       "    <tr>\n",
       "      <th>...</th>\n",
       "      <td>...</td>\n",
       "      <td>...</td>\n",
       "    </tr>\n",
       "    <tr>\n",
       "      <th>1529</th>\n",
       "      <td>2011-12-06 20:00:00</td>\n",
       "      <td>2011-12-06 08:00:00</td>\n",
       "    </tr>\n",
       "    <tr>\n",
       "      <th>1530</th>\n",
       "      <td>NaT</td>\n",
       "      <td>NaT</td>\n",
       "    </tr>\n",
       "    <tr>\n",
       "      <th>1531</th>\n",
       "      <td>2009-08-29 23:53:00</td>\n",
       "      <td>2009-08-29 22:54:00</td>\n",
       "    </tr>\n",
       "    <tr>\n",
       "      <th>1532</th>\n",
       "      <td>2009-08-29 14:01:00</td>\n",
       "      <td>2009-08-29 11:00:00</td>\n",
       "    </tr>\n",
       "    <tr>\n",
       "      <th>1533</th>\n",
       "      <td>NaT</td>\n",
       "      <td>NaT</td>\n",
       "    </tr>\n",
       "  </tbody>\n",
       "</table>\n",
       "<p>1534 rows × 2 columns</p>\n",
       "</div>"
      ],
      "text/plain": [
       "      OUTAGE.RESTORATION        OUTAGE.START\n",
       "0    2011-07-03 20:00:00 2011-07-01 17:00:00\n",
       "1    2014-05-11 18:39:00 2014-05-11 18:38:00\n",
       "2    2010-10-28 22:00:00 2010-10-26 20:00:00\n",
       "3    2012-06-20 23:00:00 2012-06-19 04:30:00\n",
       "4    2015-07-19 07:00:00 2015-07-18 02:00:00\n",
       "...                  ...                 ...\n",
       "1529 2011-12-06 20:00:00 2011-12-06 08:00:00\n",
       "1530                 NaT                 NaT\n",
       "1531 2009-08-29 23:53:00 2009-08-29 22:54:00\n",
       "1532 2009-08-29 14:01:00 2009-08-29 11:00:00\n",
       "1533                 NaT                 NaT\n",
       "\n",
       "[1534 rows x 2 columns]"
      ]
     },
     "execution_count": 20,
     "metadata": {},
     "output_type": "execute_result"
    }
   ],
   "source": [
    "df['YEAR'] = df['YEAR'].astype('int')\n",
    "# Combine 'OUTAGE.START.DATE' and 'OUTAGE.START.TIME' into a new pd.Timestamp column called 'OUTAGE.START'\n",
    "start_time = df['OUTAGE.START.TIME(Hour:Minute:Second (AM / PM))']\n",
    "start_date = df['OUTAGE.START.DATE(Day of the week, Month Day, Year)']\n",
    "df[\"OUTAGE.START\"] = pd.to_datetime(start_date + \" \" + start_time)\n",
    "# combine 'OUTAGE.RESTORATION.DATE' and 'OUTAGE.RESTORATION.TIME' into a new pd.Timestamp column called 'OUTAGE.RESTORATION'.\n",
    "end_time = df['OUTAGE.RESTORATION.TIME(Hour:Minute:Second (AM / PM))']\n",
    "end_date = df['OUTAGE.RESTORATION.DATE(Day of the week, Month Day, Year)']\n",
    "df[\"OUTAGE.RESTORATION\"] = pd.to_datetime(end_date + \" \" + end_time)\n",
    "df[['OUTAGE.RESTORATION', 'OUTAGE.START']]"
   ]
  },
  {
   "cell_type": "code",
   "execution_count": 21,
   "metadata": {},
   "outputs": [
    {
     "data": {
      "text/plain": [
       "Index(['OBS', 'YEAR', 'MONTH', 'U.S._STATE', 'POSTAL.CODE', 'NERC.REGION',\n",
       "       'CLIMATE.REGION', 'ANOMALY.LEVEL(numeric)', 'CLIMATE.CATEGORY',\n",
       "       'OUTAGE.START.DATE(Day of the week, Month Day, Year)',\n",
       "       'OUTAGE.START.TIME(Hour:Minute:Second (AM / PM))',\n",
       "       'OUTAGE.RESTORATION.DATE(Day of the week, Month Day, Year)',\n",
       "       'OUTAGE.RESTORATION.TIME(Hour:Minute:Second (AM / PM))',\n",
       "       'CAUSE.CATEGORY', 'CAUSE.CATEGORY.DETAIL', 'HURRICANE.NAMES',\n",
       "       'OUTAGE.DURATION(mins)', 'DEMAND.LOSS.MW(Megawatt)',\n",
       "       'CUSTOMERS.AFFECTED', 'RES.PRICE(cents / kilowatt-hour)',\n",
       "       'COM.PRICE(cents / kilowatt-hour)', 'IND.PRICE(cents / kilowatt-hour)',\n",
       "       'TOTAL.PRICE(cents / kilowatt-hour)', 'RES.SALES(Megawatt-hour)',\n",
       "       'COM.SALES(Megawatt-hour)', 'IND.SALES(Megawatt-hour)',\n",
       "       'TOTAL.SALES(Megawatt-hour)', 'RES.PERCEN(%)', 'COM.PERCEN(%)',\n",
       "       'IND.PERCEN(%)', 'RES.CUSTOMERS', 'COM.CUSTOMERS', 'IND.CUSTOMERS',\n",
       "       'TOTAL.CUSTOMERS', 'RES.CUST.PCT(%)', 'COM.CUST.PCT(%)',\n",
       "       'IND.CUST.PCT(%)', 'PC.REALGSP.STATE(USD)', 'PC.REALGSP.USA(USD)',\n",
       "       'PC.REALGSP.REL(fraction)', 'PC.REALGSP.CHANGE(%)', 'UTIL.REALGSP(USD)',\n",
       "       'TOTAL.REALGSP(USD)', 'UTIL.CONTRI(%)', 'PI.UTIL.OFUSA(%)',\n",
       "       'POPULATION', 'POPPCT_URBAN(%)', 'POPPCT_UC(%)',\n",
       "       'POPDEN_URBAN(persons per square mile)',\n",
       "       'POPDEN_UC(persons per square mile)',\n",
       "       'POPDEN_RURAL(persons per square mile)', 'AREAPCT_URBAN(%)',\n",
       "       'AREAPCT_UC(%)', 'PCT_LAND(%)', 'PCT_WATER_TOT(%)',\n",
       "       'PCT_WATER_INLAND(%)', 'start_datetime', 'OUTAGE.START',\n",
       "       'OUTAGE.RESTORATION'],\n",
       "      dtype='object')"
      ]
     },
     "execution_count": 21,
     "metadata": {},
     "output_type": "execute_result"
    }
   ],
   "source": [
    "df.columns"
   ]
  },
  {
   "attachments": {},
   "cell_type": "markdown",
   "metadata": {},
   "source": [
    "### Assessment of Missingness"
   ]
  },
  {
   "cell_type": "code",
   "execution_count": null,
   "metadata": {
    "ExecuteTime": {
     "end_time": "2019-10-31T23:36:28.662099Z",
     "start_time": "2019-10-31T23:36:28.660016Z"
    }
   },
   "outputs": [],
   "source": [
    "# TODO"
   ]
  },
  {
   "attachments": {},
   "cell_type": "markdown",
   "metadata": {},
   "source": [
    "### Hypothesis Testing"
   ]
  },
  {
   "cell_type": "code",
   "execution_count": null,
   "metadata": {
    "ExecuteTime": {
     "end_time": "2019-10-31T23:36:28.666489Z",
     "start_time": "2019-10-31T23:36:28.664381Z"
    }
   },
   "outputs": [],
   "source": [
    "# TODO"
   ]
  }
 ],
 "metadata": {
  "kernelspec": {
   "display_name": "Python 3 (ipykernel)",
   "language": "python",
   "name": "python3"
  },
  "language_info": {
   "codemirror_mode": {
    "name": "ipython",
    "version": 3
   },
   "file_extension": ".py",
   "mimetype": "text/x-python",
   "name": "python",
   "nbconvert_exporter": "python",
   "pygments_lexer": "ipython3",
   "version": "3.8.16"
  }
 },
 "nbformat": 4,
 "nbformat_minor": 2
}
