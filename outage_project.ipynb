{
 "cells": [
  {
   "attachments": {},
   "cell_type": "markdown",
   "metadata": {},
   "source": [
    "# Your Title Here\n",
    "\n",
    "**Name(s)**: (your name(s) here)\n",
    "\n",
    "**Website Link**: (your website link)"
   ]
  },
  {
   "attachments": {},
   "cell_type": "markdown",
   "metadata": {},
   "source": [
    "## Code"
   ]
  },
  {
   "cell_type": "code",
   "execution_count": 2,
   "metadata": {
    "ExecuteTime": {
     "end_time": "2019-10-31T23:36:28.652554Z",
     "start_time": "2019-10-31T23:36:27.180520Z"
    }
   },
   "outputs": [],
   "source": [
    "import pandas as pd\n",
    "import numpy as np\n",
    "import os\n",
    "\n",
    "import plotly.express as px\n",
    "pd.options.plotting.backend = 'plotly'"
   ]
  },
  {
   "attachments": {},
   "cell_type": "markdown",
   "metadata": {},
   "source": [
    "### Cleaning and EDA"
   ]
  },
  {
   "cell_type": "code",
   "execution_count": 3,
   "metadata": {
    "ExecuteTime": {
     "end_time": "2019-10-31T23:36:28.657068Z",
     "start_time": "2019-10-31T23:36:28.654650Z"
    }
   },
   "outputs": [],
   "source": [
    "# TODO\n",
    "\n",
    "rows_to_skip = list(range(5))\n",
    "df = pd.read_csv('outage.csv', skiprows=rows_to_skip, index_col='OBS')\n",
    "\n",
    "# Combine the units line and column names, drop unecessary rows and columns\n",
    "column = np.array(df.columns).astype('str')\n",
    "unites = np.array(df.iloc[0].fillna('')).astype('str')\n",
    "unites = [\"(\" + i + \")\" for i in unites]\n",
    "for i in range(len(unites)):\n",
    "    if unites[i] == '()':\n",
    "        unites[i] = ''\n",
    "combined_column = np.core.defchararray.add(column, unites)\n",
    "df.columns = combined_column\n",
    "df = df.reset_index().drop(0).drop('variables(Units)', axis=1).reset_index(drop=True)"
   ]
  },
  {
   "cell_type": "code",
   "execution_count": 4,
   "metadata": {},
   "outputs": [
    {
     "data": {
      "text/html": [
       "<div>\n",
       "<style scoped>\n",
       "    .dataframe tbody tr th:only-of-type {\n",
       "        vertical-align: middle;\n",
       "    }\n",
       "\n",
       "    .dataframe tbody tr th {\n",
       "        vertical-align: top;\n",
       "    }\n",
       "\n",
       "    .dataframe thead th {\n",
       "        text-align: right;\n",
       "    }\n",
       "</style>\n",
       "<table border=\"1\" class=\"dataframe\">\n",
       "  <thead>\n",
       "    <tr style=\"text-align: right;\">\n",
       "      <th></th>\n",
       "      <th>OUTAGE.RESTORATION</th>\n",
       "      <th>OUTAGE.START</th>\n",
       "    </tr>\n",
       "  </thead>\n",
       "  <tbody>\n",
       "    <tr>\n",
       "      <th>0</th>\n",
       "      <td>2011-07-03 20:00:00</td>\n",
       "      <td>2011-07-01 17:00:00</td>\n",
       "    </tr>\n",
       "    <tr>\n",
       "      <th>1</th>\n",
       "      <td>2014-05-11 18:39:00</td>\n",
       "      <td>2014-05-11 18:38:00</td>\n",
       "    </tr>\n",
       "    <tr>\n",
       "      <th>2</th>\n",
       "      <td>2010-10-28 22:00:00</td>\n",
       "      <td>2010-10-26 20:00:00</td>\n",
       "    </tr>\n",
       "    <tr>\n",
       "      <th>3</th>\n",
       "      <td>2012-06-20 23:00:00</td>\n",
       "      <td>2012-06-19 04:30:00</td>\n",
       "    </tr>\n",
       "    <tr>\n",
       "      <th>4</th>\n",
       "      <td>2015-07-19 07:00:00</td>\n",
       "      <td>2015-07-18 02:00:00</td>\n",
       "    </tr>\n",
       "    <tr>\n",
       "      <th>...</th>\n",
       "      <td>...</td>\n",
       "      <td>...</td>\n",
       "    </tr>\n",
       "    <tr>\n",
       "      <th>1529</th>\n",
       "      <td>2011-12-06 20:00:00</td>\n",
       "      <td>2011-12-06 08:00:00</td>\n",
       "    </tr>\n",
       "    <tr>\n",
       "      <th>1530</th>\n",
       "      <td>NaT</td>\n",
       "      <td>NaT</td>\n",
       "    </tr>\n",
       "    <tr>\n",
       "      <th>1531</th>\n",
       "      <td>2009-08-29 23:53:00</td>\n",
       "      <td>2009-08-29 22:54:00</td>\n",
       "    </tr>\n",
       "    <tr>\n",
       "      <th>1532</th>\n",
       "      <td>2009-08-29 14:01:00</td>\n",
       "      <td>2009-08-29 11:00:00</td>\n",
       "    </tr>\n",
       "    <tr>\n",
       "      <th>1533</th>\n",
       "      <td>NaT</td>\n",
       "      <td>NaT</td>\n",
       "    </tr>\n",
       "  </tbody>\n",
       "</table>\n",
       "<p>1534 rows × 2 columns</p>\n",
       "</div>"
      ],
      "text/plain": [
       "      OUTAGE.RESTORATION        OUTAGE.START\n",
       "0    2011-07-03 20:00:00 2011-07-01 17:00:00\n",
       "1    2014-05-11 18:39:00 2014-05-11 18:38:00\n",
       "2    2010-10-28 22:00:00 2010-10-26 20:00:00\n",
       "3    2012-06-20 23:00:00 2012-06-19 04:30:00\n",
       "4    2015-07-19 07:00:00 2015-07-18 02:00:00\n",
       "...                  ...                 ...\n",
       "1529 2011-12-06 20:00:00 2011-12-06 08:00:00\n",
       "1530                 NaT                 NaT\n",
       "1531 2009-08-29 23:53:00 2009-08-29 22:54:00\n",
       "1532 2009-08-29 14:01:00 2009-08-29 11:00:00\n",
       "1533                 NaT                 NaT\n",
       "\n",
       "[1534 rows x 2 columns]"
      ]
     },
     "execution_count": 4,
     "metadata": {},
     "output_type": "execute_result"
    }
   ],
   "source": [
    "df['YEAR'] = df['YEAR'].astype('int')\n",
    "# Combine 'OUTAGE.START.DATE' and 'OUTAGE.START.TIME' into a new pd.Timestamp column called 'OUTAGE.START'\n",
    "start_time = df['OUTAGE.START.TIME(Hour:Minute:Second (AM / PM))']\n",
    "start_date = df['OUTAGE.START.DATE(Day of the week, Month Day, Year)']\n",
    "df[\"OUTAGE.START\"] = pd.to_datetime(start_date + \" \" + start_time)\n",
    "# combine 'OUTAGE.RESTORATION.DATE' and 'OUTAGE.RESTORATION.TIME' into a new pd.Timestamp column called 'OUTAGE.RESTORATION'.\n",
    "end_time = df['OUTAGE.RESTORATION.TIME(Hour:Minute:Second (AM / PM))']\n",
    "end_date = df['OUTAGE.RESTORATION.DATE(Day of the week, Month Day, Year)']\n",
    "df[\"OUTAGE.RESTORATION\"] = pd.to_datetime(end_date + \" \" + end_time)\n",
    "df[['OUTAGE.RESTORATION', 'OUTAGE.START']]"
   ]
  },
  {
   "cell_type": "code",
   "execution_count": 8,
   "metadata": {},
   "outputs": [
    {
     "data": {
      "text/plain": [
       "0       NaN\n",
       "1       NaN\n",
       "2       NaN\n",
       "3       NaN\n",
       "4       NaN\n",
       "       ... \n",
       "1529    NaN\n",
       "1530    NaN\n",
       "1531    NaN\n",
       "1532    NaN\n",
       "1533    NaN\n",
       "Name: HURRICANE.NAMES, Length: 1534, dtype: object"
      ]
     },
     "execution_count": 8,
     "metadata": {},
     "output_type": "execute_result"
    }
   ],
   "source": [
    "df['HURRICANE.NAMES']"
   ]
  },
  {
   "attachments": {},
   "cell_type": "markdown",
   "metadata": {},
   "source": [
    "### Assessment of Missingness"
   ]
  },
  {
   "attachments": {},
   "cell_type": "markdown",
   "metadata": {},
   "source": [
    "## NMAR Analysis\n",
    "The concept of Not Missing At Random (NMAR) implies that the probability of a value being missing is dependent on the actual missing value itself. In the context of this dataset, the column in question records the names of hurricanes responsible for specific power outages. However, it is important to note that not all power outages can be attributed to hurricanes. Some outages may result from facility maintenance or other natural disasters.\n",
    "Consequently, if a particular power outage is not caused by a hurricane, it is reasonable for the corresponding cell in the hurricane column to be missing. Incorporating an additional column, such as one that records the amount of rainfall during the corresponding time period, could provide further context. For instance, if the rainfall amount is significantly higher than usual, it is more likely that a hurricane is responsible for the power outage, and thus, the hurricane name column would be populated. "
   ]
  },
  {
   "cell_type": "code",
   "execution_count": 67,
   "metadata": {
    "ExecuteTime": {
     "end_time": "2019-10-31T23:36:28.662099Z",
     "start_time": "2019-10-31T23:36:28.660016Z"
    }
   },
   "outputs": [
    {
     "data": {
      "application/vnd.plotly.v1+json": {
       "config": {
        "plotlyServerURL": "https://plot.ly"
       },
       "data": [
        {
         "alignmentgroup": "True",
         "hovertemplate": "variable=not_missing_proportion<br>value=%{x}<br>CAUSE.CATEGORY=%{y}<extra></extra>",
         "legendgroup": "not_missing_proportion",
         "marker": {
          "color": "#636efa",
          "pattern": {
           "shape": ""
          }
         },
         "name": "not_missing_proportion",
         "offsetgroup": "not_missing_proportion",
         "orientation": "h",
         "showlegend": true,
         "textposition": "auto",
         "type": "bar",
         "x": [
          0.027497708524289642,
          0.006416131989000917,
          0.18240146654445463,
          0.031164069660861594,
          0.01924839596700275,
          0.6571952337305225,
          0.076076993583868
         ],
         "xaxis": "x",
         "y": [
          "equipment failure",
          "fuel supply emergency",
          "intentional attack",
          "islanding",
          "public appeal",
          "severe weather",
          "system operability disruption"
         ],
         "yaxis": "y"
        },
        {
         "alignmentgroup": "True",
         "hovertemplate": "variable=missing_proportion<br>value=%{x}<br>CAUSE.CATEGORY=%{y}<extra></extra>",
         "legendgroup": "missing_proportion",
         "marker": {
          "color": "#EF553B",
          "pattern": {
           "shape": ""
          }
         },
         "name": "missing_proportion",
         "offsetgroup": "missing_proportion",
         "orientation": "h",
         "showlegend": true,
         "textposition": "auto",
         "type": "bar",
         "x": [
          0.06772009029345373,
          0.09932279909706546,
          0.49435665914221216,
          0.02708803611738149,
          0.10835214446952596,
          0.1038374717832957,
          0.09932279909706546
         ],
         "xaxis": "x",
         "y": [
          "equipment failure",
          "fuel supply emergency",
          "intentional attack",
          "islanding",
          "public appeal",
          "severe weather",
          "system operability disruption"
         ],
         "yaxis": "y"
        }
       ],
       "layout": {
        "barmode": "group",
        "legend": {
         "title": {
          "text": "variable"
         },
         "tracegroupgap": 0
        },
        "template": {
         "data": {
          "bar": [
           {
            "error_x": {
             "color": "#2a3f5f"
            },
            "error_y": {
             "color": "#2a3f5f"
            },
            "marker": {
             "line": {
              "color": "#E5ECF6",
              "width": 0.5
             },
             "pattern": {
              "fillmode": "overlay",
              "size": 10,
              "solidity": 0.2
             }
            },
            "type": "bar"
           }
          ],
          "barpolar": [
           {
            "marker": {
             "line": {
              "color": "#E5ECF6",
              "width": 0.5
             },
             "pattern": {
              "fillmode": "overlay",
              "size": 10,
              "solidity": 0.2
             }
            },
            "type": "barpolar"
           }
          ],
          "carpet": [
           {
            "aaxis": {
             "endlinecolor": "#2a3f5f",
             "gridcolor": "white",
             "linecolor": "white",
             "minorgridcolor": "white",
             "startlinecolor": "#2a3f5f"
            },
            "baxis": {
             "endlinecolor": "#2a3f5f",
             "gridcolor": "white",
             "linecolor": "white",
             "minorgridcolor": "white",
             "startlinecolor": "#2a3f5f"
            },
            "type": "carpet"
           }
          ],
          "choropleth": [
           {
            "colorbar": {
             "outlinewidth": 0,
             "ticks": ""
            },
            "type": "choropleth"
           }
          ],
          "contour": [
           {
            "colorbar": {
             "outlinewidth": 0,
             "ticks": ""
            },
            "colorscale": [
             [
              0,
              "#0d0887"
             ],
             [
              0.1111111111111111,
              "#46039f"
             ],
             [
              0.2222222222222222,
              "#7201a8"
             ],
             [
              0.3333333333333333,
              "#9c179e"
             ],
             [
              0.4444444444444444,
              "#bd3786"
             ],
             [
              0.5555555555555556,
              "#d8576b"
             ],
             [
              0.6666666666666666,
              "#ed7953"
             ],
             [
              0.7777777777777778,
              "#fb9f3a"
             ],
             [
              0.8888888888888888,
              "#fdca26"
             ],
             [
              1,
              "#f0f921"
             ]
            ],
            "type": "contour"
           }
          ],
          "contourcarpet": [
           {
            "colorbar": {
             "outlinewidth": 0,
             "ticks": ""
            },
            "type": "contourcarpet"
           }
          ],
          "heatmap": [
           {
            "colorbar": {
             "outlinewidth": 0,
             "ticks": ""
            },
            "colorscale": [
             [
              0,
              "#0d0887"
             ],
             [
              0.1111111111111111,
              "#46039f"
             ],
             [
              0.2222222222222222,
              "#7201a8"
             ],
             [
              0.3333333333333333,
              "#9c179e"
             ],
             [
              0.4444444444444444,
              "#bd3786"
             ],
             [
              0.5555555555555556,
              "#d8576b"
             ],
             [
              0.6666666666666666,
              "#ed7953"
             ],
             [
              0.7777777777777778,
              "#fb9f3a"
             ],
             [
              0.8888888888888888,
              "#fdca26"
             ],
             [
              1,
              "#f0f921"
             ]
            ],
            "type": "heatmap"
           }
          ],
          "heatmapgl": [
           {
            "colorbar": {
             "outlinewidth": 0,
             "ticks": ""
            },
            "colorscale": [
             [
              0,
              "#0d0887"
             ],
             [
              0.1111111111111111,
              "#46039f"
             ],
             [
              0.2222222222222222,
              "#7201a8"
             ],
             [
              0.3333333333333333,
              "#9c179e"
             ],
             [
              0.4444444444444444,
              "#bd3786"
             ],
             [
              0.5555555555555556,
              "#d8576b"
             ],
             [
              0.6666666666666666,
              "#ed7953"
             ],
             [
              0.7777777777777778,
              "#fb9f3a"
             ],
             [
              0.8888888888888888,
              "#fdca26"
             ],
             [
              1,
              "#f0f921"
             ]
            ],
            "type": "heatmapgl"
           }
          ],
          "histogram": [
           {
            "marker": {
             "pattern": {
              "fillmode": "overlay",
              "size": 10,
              "solidity": 0.2
             }
            },
            "type": "histogram"
           }
          ],
          "histogram2d": [
           {
            "colorbar": {
             "outlinewidth": 0,
             "ticks": ""
            },
            "colorscale": [
             [
              0,
              "#0d0887"
             ],
             [
              0.1111111111111111,
              "#46039f"
             ],
             [
              0.2222222222222222,
              "#7201a8"
             ],
             [
              0.3333333333333333,
              "#9c179e"
             ],
             [
              0.4444444444444444,
              "#bd3786"
             ],
             [
              0.5555555555555556,
              "#d8576b"
             ],
             [
              0.6666666666666666,
              "#ed7953"
             ],
             [
              0.7777777777777778,
              "#fb9f3a"
             ],
             [
              0.8888888888888888,
              "#fdca26"
             ],
             [
              1,
              "#f0f921"
             ]
            ],
            "type": "histogram2d"
           }
          ],
          "histogram2dcontour": [
           {
            "colorbar": {
             "outlinewidth": 0,
             "ticks": ""
            },
            "colorscale": [
             [
              0,
              "#0d0887"
             ],
             [
              0.1111111111111111,
              "#46039f"
             ],
             [
              0.2222222222222222,
              "#7201a8"
             ],
             [
              0.3333333333333333,
              "#9c179e"
             ],
             [
              0.4444444444444444,
              "#bd3786"
             ],
             [
              0.5555555555555556,
              "#d8576b"
             ],
             [
              0.6666666666666666,
              "#ed7953"
             ],
             [
              0.7777777777777778,
              "#fb9f3a"
             ],
             [
              0.8888888888888888,
              "#fdca26"
             ],
             [
              1,
              "#f0f921"
             ]
            ],
            "type": "histogram2dcontour"
           }
          ],
          "mesh3d": [
           {
            "colorbar": {
             "outlinewidth": 0,
             "ticks": ""
            },
            "type": "mesh3d"
           }
          ],
          "parcoords": [
           {
            "line": {
             "colorbar": {
              "outlinewidth": 0,
              "ticks": ""
             }
            },
            "type": "parcoords"
           }
          ],
          "pie": [
           {
            "automargin": true,
            "type": "pie"
           }
          ],
          "scatter": [
           {
            "fillpattern": {
             "fillmode": "overlay",
             "size": 10,
             "solidity": 0.2
            },
            "type": "scatter"
           }
          ],
          "scatter3d": [
           {
            "line": {
             "colorbar": {
              "outlinewidth": 0,
              "ticks": ""
             }
            },
            "marker": {
             "colorbar": {
              "outlinewidth": 0,
              "ticks": ""
             }
            },
            "type": "scatter3d"
           }
          ],
          "scattercarpet": [
           {
            "marker": {
             "colorbar": {
              "outlinewidth": 0,
              "ticks": ""
             }
            },
            "type": "scattercarpet"
           }
          ],
          "scattergeo": [
           {
            "marker": {
             "colorbar": {
              "outlinewidth": 0,
              "ticks": ""
             }
            },
            "type": "scattergeo"
           }
          ],
          "scattergl": [
           {
            "marker": {
             "colorbar": {
              "outlinewidth": 0,
              "ticks": ""
             }
            },
            "type": "scattergl"
           }
          ],
          "scattermapbox": [
           {
            "marker": {
             "colorbar": {
              "outlinewidth": 0,
              "ticks": ""
             }
            },
            "type": "scattermapbox"
           }
          ],
          "scatterpolar": [
           {
            "marker": {
             "colorbar": {
              "outlinewidth": 0,
              "ticks": ""
             }
            },
            "type": "scatterpolar"
           }
          ],
          "scatterpolargl": [
           {
            "marker": {
             "colorbar": {
              "outlinewidth": 0,
              "ticks": ""
             }
            },
            "type": "scatterpolargl"
           }
          ],
          "scatterternary": [
           {
            "marker": {
             "colorbar": {
              "outlinewidth": 0,
              "ticks": ""
             }
            },
            "type": "scatterternary"
           }
          ],
          "surface": [
           {
            "colorbar": {
             "outlinewidth": 0,
             "ticks": ""
            },
            "colorscale": [
             [
              0,
              "#0d0887"
             ],
             [
              0.1111111111111111,
              "#46039f"
             ],
             [
              0.2222222222222222,
              "#7201a8"
             ],
             [
              0.3333333333333333,
              "#9c179e"
             ],
             [
              0.4444444444444444,
              "#bd3786"
             ],
             [
              0.5555555555555556,
              "#d8576b"
             ],
             [
              0.6666666666666666,
              "#ed7953"
             ],
             [
              0.7777777777777778,
              "#fb9f3a"
             ],
             [
              0.8888888888888888,
              "#fdca26"
             ],
             [
              1,
              "#f0f921"
             ]
            ],
            "type": "surface"
           }
          ],
          "table": [
           {
            "cells": {
             "fill": {
              "color": "#EBF0F8"
             },
             "line": {
              "color": "white"
             }
            },
            "header": {
             "fill": {
              "color": "#C8D4E3"
             },
             "line": {
              "color": "white"
             }
            },
            "type": "table"
           }
          ]
         },
         "layout": {
          "annotationdefaults": {
           "arrowcolor": "#2a3f5f",
           "arrowhead": 0,
           "arrowwidth": 1
          },
          "autotypenumbers": "strict",
          "coloraxis": {
           "colorbar": {
            "outlinewidth": 0,
            "ticks": ""
           }
          },
          "colorscale": {
           "diverging": [
            [
             0,
             "#8e0152"
            ],
            [
             0.1,
             "#c51b7d"
            ],
            [
             0.2,
             "#de77ae"
            ],
            [
             0.3,
             "#f1b6da"
            ],
            [
             0.4,
             "#fde0ef"
            ],
            [
             0.5,
             "#f7f7f7"
            ],
            [
             0.6,
             "#e6f5d0"
            ],
            [
             0.7,
             "#b8e186"
            ],
            [
             0.8,
             "#7fbc41"
            ],
            [
             0.9,
             "#4d9221"
            ],
            [
             1,
             "#276419"
            ]
           ],
           "sequential": [
            [
             0,
             "#0d0887"
            ],
            [
             0.1111111111111111,
             "#46039f"
            ],
            [
             0.2222222222222222,
             "#7201a8"
            ],
            [
             0.3333333333333333,
             "#9c179e"
            ],
            [
             0.4444444444444444,
             "#bd3786"
            ],
            [
             0.5555555555555556,
             "#d8576b"
            ],
            [
             0.6666666666666666,
             "#ed7953"
            ],
            [
             0.7777777777777778,
             "#fb9f3a"
            ],
            [
             0.8888888888888888,
             "#fdca26"
            ],
            [
             1,
             "#f0f921"
            ]
           ],
           "sequentialminus": [
            [
             0,
             "#0d0887"
            ],
            [
             0.1111111111111111,
             "#46039f"
            ],
            [
             0.2222222222222222,
             "#7201a8"
            ],
            [
             0.3333333333333333,
             "#9c179e"
            ],
            [
             0.4444444444444444,
             "#bd3786"
            ],
            [
             0.5555555555555556,
             "#d8576b"
            ],
            [
             0.6666666666666666,
             "#ed7953"
            ],
            [
             0.7777777777777778,
             "#fb9f3a"
            ],
            [
             0.8888888888888888,
             "#fdca26"
            ],
            [
             1,
             "#f0f921"
            ]
           ]
          },
          "colorway": [
           "#636efa",
           "#EF553B",
           "#00cc96",
           "#ab63fa",
           "#FFA15A",
           "#19d3f3",
           "#FF6692",
           "#B6E880",
           "#FF97FF",
           "#FECB52"
          ],
          "font": {
           "color": "#2a3f5f"
          },
          "geo": {
           "bgcolor": "white",
           "lakecolor": "white",
           "landcolor": "#E5ECF6",
           "showlakes": true,
           "showland": true,
           "subunitcolor": "white"
          },
          "hoverlabel": {
           "align": "left"
          },
          "hovermode": "closest",
          "mapbox": {
           "style": "light"
          },
          "paper_bgcolor": "white",
          "plot_bgcolor": "#E5ECF6",
          "polar": {
           "angularaxis": {
            "gridcolor": "white",
            "linecolor": "white",
            "ticks": ""
           },
           "bgcolor": "#E5ECF6",
           "radialaxis": {
            "gridcolor": "white",
            "linecolor": "white",
            "ticks": ""
           }
          },
          "scene": {
           "xaxis": {
            "backgroundcolor": "#E5ECF6",
            "gridcolor": "white",
            "gridwidth": 2,
            "linecolor": "white",
            "showbackground": true,
            "ticks": "",
            "zerolinecolor": "white"
           },
           "yaxis": {
            "backgroundcolor": "#E5ECF6",
            "gridcolor": "white",
            "gridwidth": 2,
            "linecolor": "white",
            "showbackground": true,
            "ticks": "",
            "zerolinecolor": "white"
           },
           "zaxis": {
            "backgroundcolor": "#E5ECF6",
            "gridcolor": "white",
            "gridwidth": 2,
            "linecolor": "white",
            "showbackground": true,
            "ticks": "",
            "zerolinecolor": "white"
           }
          },
          "shapedefaults": {
           "line": {
            "color": "#2a3f5f"
           }
          },
          "ternary": {
           "aaxis": {
            "gridcolor": "white",
            "linecolor": "white",
            "ticks": ""
           },
           "baxis": {
            "gridcolor": "white",
            "linecolor": "white",
            "ticks": ""
           },
           "bgcolor": "#E5ECF6",
           "caxis": {
            "gridcolor": "white",
            "linecolor": "white",
            "ticks": ""
           }
          },
          "title": {
           "x": 0.05
          },
          "xaxis": {
           "automargin": true,
           "gridcolor": "white",
           "linecolor": "white",
           "ticks": "",
           "title": {
            "standoff": 15
           },
           "zerolinecolor": "white",
           "zerolinewidth": 2
          },
          "yaxis": {
           "automargin": true,
           "gridcolor": "white",
           "linecolor": "white",
           "ticks": "",
           "title": {
            "standoff": 15
           },
           "zerolinecolor": "white",
           "zerolinewidth": 2
          }
         }
        },
        "title": {
         "text": "Causes by missingess of user affected"
        },
        "xaxis": {
         "anchor": "y",
         "domain": [
          0,
          1
         ],
         "title": {
          "text": "value"
         }
        },
        "yaxis": {
         "anchor": "x",
         "domain": [
          0,
          1
         ],
         "title": {
          "text": "CAUSE.CATEGORY"
         }
        }
       }
      }
     },
     "metadata": {},
     "output_type": "display_data"
    }
   ],
   "source": [
    "# Does missingness of customers affected depend on the cause category? \n",
    "df['CAUSE.CATEGORY']\n",
    "df.groupby('CAUSE.CATEGORY').count()\n",
    "df_ca_missing = df[df['CUSTOMERS.AFFECTED'].isna()]\n",
    "df_ca_not_missing = df[~df['CUSTOMERS.AFFECTED'].isna()]\n",
    "missing_count = df_ca_missing.groupby('CAUSE.CATEGORY').count()['YEAR']\n",
    "missing_proportion = pd.Series(np.array(missing_count)/((np.array(missing_count)).sum()), index=missing_count.index)\n",
    "not_missing_count = df_ca_not_missing.groupby('CAUSE.CATEGORY').count()['YEAR']\n",
    "not_missing_proportion = pd.Series(np.array(not_missing_count)/((np.array(not_missing_count)).sum()), index=not_missing_count.index)\n",
    "observed_tvd_statistic = abs(not_missing_proportion - missing_proportion).sum()\n",
    "observed_dataframe = pd.concat([not_missing_proportion, missing_proportion], axis=1, keys=['not_missing_proportion', 'missing_proportion'])\n",
    "observed_dataframe.plot(kind='barh', title='Causes by missingess of user affected', barmode='group')\n",
    "\n"
   ]
  },
  {
   "cell_type": "code",
   "execution_count": 68,
   "metadata": {},
   "outputs": [
    {
     "data": {
      "application/vnd.plotly.v1+json": {
       "config": {
        "plotlyServerURL": "https://plot.ly"
       },
       "data": [
        {
         "alignmentgroup": "True",
         "bingroup": "x",
         "histnorm": "probability",
         "hovertemplate": "0=%{x}<br>probability=%{y}<extra></extra>",
         "legendgroup": "",
         "marker": {
          "color": "#636efa",
          "pattern": {
           "shape": ""
          }
         },
         "name": "",
         "nbinsx": 50,
         "offsetgroup": "",
         "orientation": "v",
         "showlegend": false,
         "type": "histogram",
         "x": [
          0.1040361008290693,
          0.04641298702910951,
          0.08252623041383117,
          0.06167845681783854,
          0.05078696414125013,
          0.14124594207066637,
          0.14807381551913568,
          0.1526836646231324,
          0.08432216803603454,
          0.08877063104034039,
          0.136830583907323,
          0.09912003194617151,
          0.07180440004717437,
          0.08680916921332549,
          0.07650942556893764,
          0.1291461226989549,
          0.06530343690320767,
          0.0994676327762754,
          0.0639420003186341,
          0.038550587300569185,
          0.13183589102713977,
          0.07580594769848943,
          0.11886706958016843,
          0.08177723338705967,
          0.11914018451810733,
          0.1040361008290693,
          0.07871503559804931,
          0.11171228582719686,
          0.11626420145950968,
          0.1262122061686733,
          0.11500621750294322,
          0.08051924943049327,
          0.07650942556893774,
          0.07592181464185734,
          0.14219356814321152,
          0.06101222189347278,
          0.06574621415107812,
          0.0864243254371391,
          0.0823110489475764,
          0.06522067480080192,
          0.08180206201778148,
          0.07407621975821051,
          0.10770246196564132,
          0.12662187857558146,
          0.09950487572235803,
          0.08473184044294282,
          0.07846261118571196,
          0.1043878397642936,
          0.1391686133002837,
          0.12097750319151358,
          0.06483583102461549,
          0.11400479606383444,
          0.09313633194224033,
          0.05504921241514293,
          0.0929501172118275,
          0.09568126659121523,
          0.09104245075137646,
          0.17419353503837057,
          0.074564516162404,
          0.09692269812730048,
          0.08666019742899528,
          0.07410104838893225,
          0.1358539910989359,
          0.09923176078441923,
          0.0527194592324229,
          0.14440745438256367,
          0.11778702414377429,
          0.07852882086763645,
          0.09288390752990298,
          0.08207517695572024,
          0.08083374541963487,
          0.05726309865449511,
          0.19290604639229647,
          0.11843670664765894,
          0.08025441070279513,
          0.029641246976596966,
          0.10156979017737983,
          0.10791764343189604,
          0.1543264923558853,
          0.11451792109874974,
          0.11459654509603508,
          0.07031054409875173,
          0.10584031466151336,
          0.06961534243854399,
          0.09113762716914296,
          0.09701787454506701,
          0.08865890220209266,
          0.09094313622848962,
          0.10108149377318626,
          0.09902485552840497,
          0.07605837211082678,
          0.12050989731292144,
          0.11071500249320827,
          0.103158822543569,
          0.1286992073459642,
          0.16063296455919865,
          0.13998795811409992,
          0.10585272897687417,
          0.15461615971430515,
          0.09362462834643384,
          0.08485598359655133,
          0.09949246140699715,
          0.061322579777494134,
          0.06334611318131322,
          0.084458725505004,
          0.10570375719254393,
          0.10158220449274069,
          0.06689246926939682,
          0.07753153753364796,
          0.061123950731720444,
          0.05360501372816368,
          0.11192746729345163,
          0.14648478315294636,
          0.17374661968537997,
          0.07141955627098799,
          0.07407621975821052,
          0.05691963592951145,
          0.0838793907881642,
          0.06565103773331157,
          0.09533366576111132,
          0.13317249898099162,
          0.052140124515583086,
          0.12523561336028619,
          0.09093072191312875,
          0.0740969102838119,
          0.13764992872113924,
          0.059067312486939055,
          0.04880481178863386,
          0.05921214616614903,
          0.1247845599021751,
          0.19043145953036641,
          0.0842435440387492,
          0.0506669590927618,
          0.0741010483889322,
          0.042746625892537506,
          0.12536389461901504,
          0.09558609017344868,
          0.09096796485921131,
          0.07445278732415642,
          0.05299257417036163,
          0.0711836842791317,
          0.052719459232422966,
          0.08007647218262291,
          0.11208885339314278,
          0.14572337181081413,
          0.09701787454506708,
          0.0948495074620381,
          0.0871484938331889,
          0.0997448858193344,
          0.10156151396713929,
          0.0631433460304192,
          0.0529718836447603,
          0.12513216073227906,
          0.05033591068313912,
          0.0854560088389926,
          0.07625286305148006,
          0.034280062816435794,
          0.033564170630626555,
          0.07542938013254351,
          0.11427791100177324,
          0.08289038366441617,
          0.06700419810764459,
          0.10609273907385074,
          0.06273367362351105,
          0.07410104838893222,
          0.02305752173022449,
          0.04884619283983674,
          0.05248772534568699,
          0.018298700841897525,
          0.08859269252016808,
          0.0808337454196349,
          0.10403610082906928,
          0.07129541311737944,
          0.08961480448487834,
          0.07153128510923569,
          0.0638675144264689,
          0.11673180733810179,
          0.07844192066011052,
          0.1185277449603053,
          0.06730214167630497,
          0.07852882086763646,
          0.1313682851485476,
          0.09937659446362912,
          0.05749897064635133,
          0.08651536374978536,
          0.059340427424877794,
          0.06527860827248598,
          0.05078696414125014,
          0.07627355357708157,
          0.08300625060778424,
          0.11225851570307437,
          0.0651668794342383,
          0.0980192959841759,
          0.055330603563322346,
          0.0845952829739734,
          0.12082025519694273,
          0.10991634820499346,
          0.06095428842178874,
          0.02611144330899439,
          0.05115111739183509,
          0.12099819371711504,
          0.15897358440596468,
          0.05930318447879533,
          0.10812454868791031,
          0.12035264931835066,
          0.07031054409875181,
          0.09341772309041957,
          0.10963495705681414,
          0.06322610813282489,
          0.09596265773939452,
          0.06972707127679167,
          0.11500621750294318,
          0.053584323202562234,
          0.05714723171112711,
          0.10158634259786099,
          0.05468505916455792,
          0.09046311603453663,
          0.0892051320779702,
          0.07372861892810662,
          0.10292295055171286,
          0.07753153753364798,
          0.0656882806793941,
          0.09521366071262308,
          0.0509152453999789,
          0.044898440555085455,
          0.08226552979125334,
          0.055409227560607656,
          0.1650276321969407,
          0.10839766362584913,
          0.07998129576485635,
          0.06093773600130766,
          0.09958763782476376,
          0.07764326637189564,
          0.040421010814937736,
          0.08445872550500406,
          0.07410104838893215,
          0.14391915797837007,
          0.12940268521641252,
          0.093392894459698,
          0.13918930382588512,
          0.10716864640512463,
          0.1398638149604914,
          0.09902485552840493,
          0.044898440555085455,
          0.11654973071280936,
          0.04491913108068685,
          0.0980192959841759,
          0.04660747796976294,
          0.08888649798370835,
          0.18021033988326413,
          0.04196866212992409,
          0.06545654679265815,
          0.07787913836375182,
          0.10865836424842698,
          0.0803495871205617,
          0.07764326637189566,
          0.05713481739576633,
          0.10403610082906932,
          0.0909514124387302,
          0.11412893921744294,
          0.04613987209117072,
          0.038091257632217594,
          0.11379789080782014,
          0.04613987209117078,
          0.06821666290788783,
          0.1032705513818168,
          0.06994225274304644,
          0.1076569428093182,
          0.048242029492275226,
          0.08704504120518171,
          0.08473184044294274,
          0.08593602903294545,
          0.12674602172918997,
          0.08298556008218279,
          0.0931363319422403,
          0.09912003194617154,
          0.09477088346475267,
          0.07409277217869169,
          0.13502637007487903,
          0.06545654679265821,
          0.06368957590629684,
          0.10837697310024763,
          0.06765388061152919,
          0.09286321700430157,
          0.036729821047644114,
          0.16330204236178208,
          0.05967975204474113,
          0.05939836089656189,
          0.0715312851092356,
          0.03808298142197708,
          0.10745003755330394,
          0.04150105625133192,
          0.059228698586630116,
          0.09704270317578874,
          0.09292942668622611,
          0.12770192401197566,
          0.06303161719217155,
          0.10156151396713928,
          0.07396449091996282,
          0.042456958534117614,
          0.04904068378049006,
          0.09987730518318357,
          0.09690614570681935,
          0.04670265438752935,
          0.0847318404429428,
          0.050526263518672135,
          0.088969260086114,
          0.0742376058579016,
          0.1114598614148595,
          0.04861032084798054,
          0.07008294831713606,
          0.07417139617597705,
          0.10177669543339411,
          0.1098915195742717,
          0.08207517695572017,
          0.03818643404998413,
          0.10375470968089007,
          0.0948826123030003,
          0.06273367362351101,
          0.08387939078816425,
          0.11842015422717786,
          0.06138051324917806,
          0.17319211359926173,
          0.07154783752971684,
          0.057341722651780454,
          0.09921107025881773,
          0.1043878397642935,
          0.07203613393391035,
          0.09657509729719664,
          0.09939314688411033,
          0.08005164355190109,
          0.11398410553823296,
          0.09022724404268037,
          0.08478977391462682,
          0.10228568236318905,
          0.07542938013254355,
          0.050062795745200325,
          0.020512587081249627,
          0.06700419810764452,
          0.08460355918421394,
          0.10156151396713929,
          0.0846945974968602,
          0.10963495705681413,
          0.07786258594327077,
          0.06357784706804903,
          0.11232472538499894,
          0.06992570032256526,
          0.11500621750294318,
          0.1292247466962403,
          0.10190083858700259,
          0.040259624715246634,
          0.08072201658138725,
          0.09341772309041974,
          0.09508537945389423,
          0.07589698601113573,
          0.13095033653139898,
          0.05091524539997892,
          0.0733727418877621,
          0.05544233240157001,
          0.05967975204474116,
          0.13150484261751702,
          0.08460355918421401,
          0.0588728215462857,
          0.08873752619937805,
          0.06961534243854386,
          0.084620111604695,
          0.04579227126106679,
          0.03598910023111321,
          0.08434699666675628,
          0.08051924943049331,
          0.03199582879003875,
          0.09055829245230325,
          0.08224483926565192,
          0.14574406233641554,
          0.08080064057867267,
          0.1798006674763559,
          0.07799914341224007,
          0.08887408366834748,
          0.08445872550500402,
          0.06516687943423828,
          0.06728558925582392,
          0.12495422221210688,
          0.08859269252016808,
          0.1061920535967375,
          0.09668682613544431,
          0.09701787454506705,
          0.1335821713878998,
          0.07545420876326525,
          0.046880592907701614,
          0.1329697318300977,
          0.08473184044294277,
          0.0744858921651186,
          0.08205862453523904,
          0.0891471986062862,
          0.05225185335383071,
          0.05260773039417517,
          0.11854843548590661,
          0.09704270317578878,
          0.1272343181333836,
          0.10570375719254396,
          0.0445342873045004,
          0.08478977391462672,
          0.10303467938996048,
          0.06373095695749961,
          0.10999497220227882,
          0.13577536710165047,
          0.09500675545660883,
          0.03212824815388785,
          0.06810493406964022,
          0.08853475904848412,
          0.054958174102496746,
          0.09274735006093364,
          0.10375884778601033,
          0.09948418519675656,
          0.054606435167272566,
          0.10584031466151331,
          0.07141955627098796,
          0.14780070058119688,
          0.10991634820499346,
          0.10804592469062488,
          0.124883874425062,
          0.1312317276795782,
          0.07264857349171236,
          0.07448589216511872,
          0.09080657875952028,
          0.06494755986286316,
          0.08250553988822973,
          0.1036636713682437,
          0.09500675545660887,
          0.07129541311737947,
          0.08081719299915371,
          0.11398410553823303,
          0.0426348970542899,
          0.0954950518608024,
          0.07390655744827881,
          0.06138051324917806,
          0.1315048426175171,
          0.033564170630626514,
          0.12261205471402586,
          0.07786258594327071,
          0.09939314688411034,
          0.2180946922594675,
          0.12016229648281762,
          0.043714942490684125,
          0.04870135916062678,
          0.045904000099314585,
          0.09328116562145027,
          0.09956280919404195,
          0.0613970656696592,
          0.13551466647907257,
          0.13171174787353115,
          0.05538853703500632,
          0.10195463395356631,
          0.11708354627332598,
          0.05313740784957154,
          0.12061334994092851,
          0.10363884273752205,
          0.14600476295899342,
          0.05715136981624744,
          0.04227902001394541,
          0.08507116506280607,
          0.07118368427913171,
          0.12229755872488422,
          0.133789076643914,
          0.09757238063118512,
          0.04453428730450034,
          0.07027330115266922,
          0.0805192494304933,
          0.10119736071655429,
          0.074113462704293,
          0.13744302346512516,
          0.05668376393765524,
          0.05371674256641136,
          0.15099117962893607,
          0.11867257863951523,
          0.06548137542337981,
          0.03394901440681301,
          0.05053040162379244,
          0.14345155209977803,
          0.05293877880379792,
          0.13944172823822248,
          0.048316515384440296,
          0.08399111962641187,
          0.05939836089656183,
          0.09508537945389428,
          0.07398104334044403,
          0.07542938013254341,
          0.08671399279555897,
          0.07617010094907442,
          0.06969396643582934,
          0.05460643516727259,
          0.08224483926565182,
          0.09547436133520097,
          0.10865836424842701,
          0.05960112804745568,
          0.04672334491313078,
          0.059212146166149046,
          0.1297792527823584,
          0.03428006281643576,
          0.05271945923242285,
          0.11412893921744294,
          0.03857127782617061,
          0.09976557634493591,
          0.15075530763707992,
          0.05722999381353277,
          0.148355206667315,
          0.07010363884273757,
          0.10082079315060838,
          0.03675051157324548,
          0.09046311603453666,
          0.10377540020649152,
          0.0953171133406302,
          0.059108693538141965,
          0.10338641832518472,
          0.050037967114478624,
          0.07396449091996278,
          0.09323978457024742,
          0.05111801255087286,
          0.10350228526855262,
          0.061885362073852784,
          0.0829855600821828,
          0.08007647218262287,
          0.07363344251034015,
          0.052760840283625696,
          0.03842230604184032,
          0.11853602117054571,
          0.10617136307113603,
          0.054958174102496725,
          0.10790936722165553,
          0.08651536374978537,
          0.10411472482635474,
          0.06130602735701302,
          0.09321495593952567,
          0.11379789080782023,
          0.11842015422717783,
          0.10960185221585186,
          0.11459654509603513,
          0.07470521173649369,
          0.13966932401983806,
          0.05848797777009926,
          0.06984707632527994,
          0.1012883990292005,
          0.10591066244855814,
          0.07182922867789615,
          0.15281194588186117,
          0.08215380095300562,
          0.1160821248342172,
          0.0744858921651187,
          0.06738076567359041,
          0.09131556568931522,
          0.06422339146681348,
          0.07057124472132954,
          0.1696498956162983,
          0.09555298533248643,
          0.08263795925207881,
          0.1393175850846139,
          0.10819075836983494,
          0.08036613954104271,
          0.05322844616221789,
          0.08908098892436173,
          0.07154783752971687,
          0.1165290401872079,
          0.06788975260338533,
          0.03428833902667633,
          0.06910635550874898,
          0.07776740952550425,
          0.08693331236693408,
          0.09352945192866743,
          0.07604181969034561,
          0.08727677509191774,
          0.061032912419074214,
          0.05761483758971932,
          0.11472482635476387,
          0.1037216048399278,
          0.06961534243854389,
          0.12697361751080566,
          0.04433565825872678,
          0.08224483926565185,
          0.09475433104427144,
          0.10356849495047724,
          0.06992570032256533,
          0.15661486448740264,
          0.08877063104034025,
          0.15642864975698978,
          0.044302553417764526,
          0.07791638130983439,
          0.05687825487830871,
          0.1124612828539683,
          0.07188716214958005,
          0.11290406010183876,
          0.08900236492707622,
          0.09948418519675659,
          0.06334611318131314,
          0.07027330115266923,
          0.061268784410930366,
          0.07811087225048775,
          0.08718159867415111,
          0.037751933012354334,
          0.07897573622062719,
          0.05538853703500625,
          0.06165362818711686,
          0.1041147248263548,
          0.08606844839679456,
          0.11073569301880966,
          0.06949119928493544,
          0.03968028999840678,
          0.0631433460304193,
          0.11632213493119373,
          0.07417139617597707,
          0.13122345146933762,
          0.11354132829036263,
          0.0758390525394516,
          0.13683058390732303,
          0.051060079079188816,
          0.11038395408358567,
          0.09484950746203799,
          0.14427917312383484,
          0.0999724816009501,
          0.0969599410733831,
          0.12729225160506757,
          0.08666019742899525,
          0.030270238954880166,
          0.07396449091996282,
          0.04002375272339044,
          0.10989151957427179,
          0.0992317607844192,
          0.10544305656996608,
          0.13351596170597513,
          0.12658877373461924,
          0.09508537945389423,
          0.056874116773188425,
          0.1943130021331932,
          0.09167144272965967,
          0.12723431813338348,
          0.06092945979106712,
          0.05029866773705656,
          0.0965750972971966,
          0.14772207658391148,
          0.0959626577393945,
          0.09508537945389431,
          0.0948495074620381,
          0.07388586692267736,
          0.07118368427913177,
          0.12039816847467372,
          0.08177723338705972,
          0.11500621750294321,
          0.09131556568931513,
          0.06945809444397319,
          0.07645149209725369,
          0.07216027708751888,
          0.08604775787119327,
          0.09107969369745904,
          0.12855023556163386,
          0.08496771243479892,
          0.09681096928905289,
          0.0807799500530711,
          0.06320127950210319,
          0.03199582879003881,
          0.07617010094907437,
          0.08504633643208442,
          0.10292295055171291,
          0.056874116773188356,
          0.10570375719254388,
          0.07188716214958006,
          0.11816359170972023,
          0.06373509506261979,
          0.1142448061608109,
          0.07764326637189557,
          0.14353017609706334,
          0.061790185656086176,
          0.11573038589899304,
          0.13557259995075657,
          0.09927727994074231,
          0.11681043133538718,
          0.08180206201778147,
          0.029641246976596994,
          0.11462964993699737,
          0.0804240730127268,
          0.059133522168863584,
          0.044770159296356624,
          0.04736888931189523,
          0.06114464125732186,
          0.1438115672452428,
          0.09496123630028572,
          0.08861338304576954,
          0.08896926008611394,
          0.0613970656696593,
          0.0705712447213297,
          0.11626420145950969,
          0.02732804621435798,
          0.09519710829214198,
          0.11416204405840522,
          0.08250553988822976,
          0.032186181625571866,
          0.0680842435440388,
          0.0948826123030003,
          0.07615768663371358,
          0.07423760585790168,
          0.04150105625133197,
          0.16552834291649512,
          0.10608860096873038,
          0.15648658322867387,
          0.07199889098782777,
          0.061790185656086204,
          0.09131556568931518,
          0.0673807656735904,
          0.11842015422717783,
          0.15188501033491758,
          0.10123046555751662,
          0.11854843548590663,
          0.04453428730450035,
          0.10375470968089003,
          0.12220238230711772,
          0.03602634317719576,
          0.08485598359655125,
          0.09274735006093361,
          0.04233695348562945,
          0.06983052390479873,
          0.15879564588579248,
          0.13123172767957833,
          0.1396569097044773,
          0.12266998818570994,
          0.11825463002236641,
          0.10377540020649138,
          0.08686710268500947,
          0.12474731695609262,
          0.0748169405747415,
          0.08459528297397331,
          0.051039388553587396,
          0.07545420876326522,
          0.12231411114536542,
          0.08077995005307122,
          0.11681043133538727,
          0.10812454868791027,
          0.06212123406570896,
          0.05248772534568698,
          0.1352415515411339,
          0.036398772638021305,
          0.09949246140699713,
          0.10536443257268065,
          0.10438783976429353,
          0.08914719860628617,
          0.06581242383300259,
          0.06483583102461556,
          0.09095141243873014,
          0.12132924212673776,
          0.05260773039417525,
          0.050505572993070715,
          0.08714849383318887,
          0.14420054912654953,
          0.0994676327762754,
          0.0916921332552611,
          0.09521366071262316,
          0.1224299780887334,
          0.06177363323560504,
          0.12708948445417356,
          0.07999784818533745,
          0.07650942556893771,
          0.04660747796976282,
          0.10584031466151339,
          0.043950814482540325,
          0.09362462834643395,
          0.03218618162557184,
          0.1604177830929439,
          0.19932424743385752,
          0.15186431980931614,
          0.1030346793899605,
          0.09874346438022563,
          0.07569008075512144,
          0.07811087225048777,
          0.08920513207797019,
          0.10146633754937281,
          0.08324212259964035,
          0.11424480616081098,
          0.08606844839679467,
          0.14172596226461942,
          0.059952866982679924,
          0.0715478375297168,
          0.1093825326444768,
          0.08859269252016808,
          0.03628704379977368,
          0.1375795809340945,
          0.13538638522034374,
          0.11643386376944133,
          0.04415771973855451,
          0.0935128995081862,
          0.07337274188776213,
          0.0954288421788779,
          0.057341722651780475,
          0.07753153753364804,
          0.08051924943049332,
          0.10757831881203275,
          0.14345982831001858,
          0.05703136476775916,
          0.059303184478795304,
          0.06322610813282498,
          0.08680916921332554,
          0.08859269252016815,
          0.06728558925582387,
          0.08481046444022813,
          0.09715443201403653,
          0.04035480113301321,
          0.06775319513441608,
          0.16250338807356726,
          0.10228568236318902,
          0.08445872550500397,
          0.12949786163417906,
          0.09962901887596652,
          0.09265217364316705,
          0.12269067871131123,
          0.06983052390479882,
          0.0781108722504878,
          0.10350228526855265,
          0.07372861892810657,
          0.040023752723390454,
          0.06114464125732182,
          0.06689246926939685,
          0.12196651031526165,
          0.09300805068351145,
          0.10146633754937284,
          0.10410644861611411,
          0.048701359160626755,
          0.04612331967068954,
          0.09102589833089533,
          0.0694911992849355,
          0.05759414706411788,
          0.14979940535429417,
          0.07236718234353302,
          0.1348980888161502,
          0.07407621975821051,
          0.06775319513441597,
          0.06483583102461549,
          0.09449776852681396,
          0.12466869295880732,
          0.07176301899597148,
          0.10938253264447678,
          0.07324032252391313,
          0.10362642842216122,
          0.06992570032256529,
          0.12261205471402586,
          0.03816574352438275,
          0.04464601614274806,
          0.060064595820927616,
          0.08070132605578581,
          0.08496771243479898,
          0.11661594039473382,
          0.11654973071280927,
          0.1374637139907265,
          0.0530711981676471,
          0.12254584503210131,
          0.08251795420359066,
          0.08205862453523914,
          0.05076627361564858,
          0.08054407806121508,
          0.11190677676785027,
          0.09921107025881777,
          0.10377540020649145,
          0.11839946370157649,
          0.05505748862538349,
          0.09341772309041962,
          0.035989100231113194,
          0.09701787454506708,
          0.04029686766132917,
          0.0549747265229779,
          0.06530343690320764,
          0.0736251663000996,
          0.11192746729345174,
          0.06384682390086763,
          0.0787233118082899,
          0.10509131763474186,
          0.044066681425908236,
          0.12012505353673497,
          0.12061334994092854,
          0.07629010599756257,
          0.08686710268500945,
          0.07638528241532913,
          0.0723506299230519,
          0.12667981204726542,
          0.09067002129055085,
          0.1509911796289361,
          0.12694051266984333,
          0.0360056526515943,
          0.11827532054796784,
          0.06375578558822131,
          0.15650727375427523,
          0.054581606536550864,
          0.08231104894757635,
          0.08534428000074488,
          0.12307966059261805,
          0.08252623041383114,
          0.1107356930188097,
          0.1227817170239575,
          0.11024739661461626,
          0.05334845121070608,
          0.15906462271861088,
          0.10154909965177847,
          0.12097750319151362,
          0.10791764343189611,
          0.10619205359673753,
          0.12729225160506757,
          0.07797431478151845,
          0.08677192626724291,
          0.06373095695749958,
          0.12012505353673503,
          0.10119736071655427,
          0.12487559821482146,
          0.08473184044294277,
          0.15468236939622976,
          0.1439274341886107,
          0.08469459749686015,
          0.07604181969034551,
          0.10617136307113616,
          0.08460355918421397,
          0.10754521397107057,
          0.08298556008218276,
          0.13729818978591513,
          0.07825570592969781,
          0.06788975260338534,
          0.12315828458990352,
          0.054862997684730144,
          0.1252356133602862,
          0.08680916921332549,
          0.06548137542337978,
          0.06147568966694459,
          0.08632087280913195,
          0.15648658322867376,
          0.07823501540409629,
          0.10998669599203838,
          0.0614053418798998,
          0.08300625060778416,
          0.11400479606383439,
          0.08886580745810695,
          0.08445872550500398,
          0.11244059232836687,
          0.09313633194224036,
          0.10111873671926885,
          0.07776740952550415,
          0.05519404609435287,
          0.07910815558447631,
          0.09341772309041962,
          0.06934222750060526,
          0.08421043919778684,
          0.06541516574145527,
          0.16330204236178214,
          0.09701787454506702,
          0.11852774496030521,
          0.06320127950210318,
          0.0867884786877241,
          0.1881017063476464,
          0.09555298533248645,
          0.09962901887596658,
          0.10791764343189608,
          0.09067002129055086,
          0.13976863854272495,
          0.0825055398882298,
          0.056853426247586984,
          0.12548803777262346,
          0.06357784706804907,
          0.07398518144556428,
          0.11867257863951522,
          0.06103291241907413,
          0.11598281031133034,
          0.10377540020649147,
          0.10373815726040883,
          0.11843670664765893,
          0.0956812665912152,
          0.06384682390086759,
          0.07016157231442148,
          0.09570195711681662,
          0.08885339314274605,
          0.09521366071262309,
          0.09349634708770499,
          0.06738076567359039,
          0.1038540242037769,
          0.05493748357689531,
          0.07209406740559429,
          0.05515266504315012,
          0.10583203845127276,
          0.06188536207385275,
          0.11988918154487885,
          0.05033591068313903,
          0.07571077128072293,
          0.061417756195260534,
          0.12559976661087124,
          0.08034958712056167,
          0.08058545911241784,
          0.10572444771814543,
          0.11172056203743748,
          0.09596265773939447,
          0.07645149209725376,
          0.13757958093409442,
          0.12033195879274916,
          0.1076362522837168,
          0.07617010094907449,
          0.06177363323560509,
          0.03608427664887974,
          0.06808424354403869,
          0.12413487739829054,
          0.11806013908171306,
          0.08632914901937261
         ],
         "xaxis": "x",
         "yaxis": "y"
        }
       ],
       "layout": {
        "barmode": "relative",
        "legend": {
         "tracegroupgap": 0
        },
        "shapes": [
         {
          "line": {
           "color": "red"
          },
          "type": "line",
          "x0": 1.1148675909814136,
          "x1": 1.1148675909814136,
          "xref": "x",
          "y0": 0,
          "y1": 1,
          "yref": "y domain"
         }
        ],
        "template": {
         "data": {
          "bar": [
           {
            "error_x": {
             "color": "#2a3f5f"
            },
            "error_y": {
             "color": "#2a3f5f"
            },
            "marker": {
             "line": {
              "color": "#E5ECF6",
              "width": 0.5
             },
             "pattern": {
              "fillmode": "overlay",
              "size": 10,
              "solidity": 0.2
             }
            },
            "type": "bar"
           }
          ],
          "barpolar": [
           {
            "marker": {
             "line": {
              "color": "#E5ECF6",
              "width": 0.5
             },
             "pattern": {
              "fillmode": "overlay",
              "size": 10,
              "solidity": 0.2
             }
            },
            "type": "barpolar"
           }
          ],
          "carpet": [
           {
            "aaxis": {
             "endlinecolor": "#2a3f5f",
             "gridcolor": "white",
             "linecolor": "white",
             "minorgridcolor": "white",
             "startlinecolor": "#2a3f5f"
            },
            "baxis": {
             "endlinecolor": "#2a3f5f",
             "gridcolor": "white",
             "linecolor": "white",
             "minorgridcolor": "white",
             "startlinecolor": "#2a3f5f"
            },
            "type": "carpet"
           }
          ],
          "choropleth": [
           {
            "colorbar": {
             "outlinewidth": 0,
             "ticks": ""
            },
            "type": "choropleth"
           }
          ],
          "contour": [
           {
            "colorbar": {
             "outlinewidth": 0,
             "ticks": ""
            },
            "colorscale": [
             [
              0,
              "#0d0887"
             ],
             [
              0.1111111111111111,
              "#46039f"
             ],
             [
              0.2222222222222222,
              "#7201a8"
             ],
             [
              0.3333333333333333,
              "#9c179e"
             ],
             [
              0.4444444444444444,
              "#bd3786"
             ],
             [
              0.5555555555555556,
              "#d8576b"
             ],
             [
              0.6666666666666666,
              "#ed7953"
             ],
             [
              0.7777777777777778,
              "#fb9f3a"
             ],
             [
              0.8888888888888888,
              "#fdca26"
             ],
             [
              1,
              "#f0f921"
             ]
            ],
            "type": "contour"
           }
          ],
          "contourcarpet": [
           {
            "colorbar": {
             "outlinewidth": 0,
             "ticks": ""
            },
            "type": "contourcarpet"
           }
          ],
          "heatmap": [
           {
            "colorbar": {
             "outlinewidth": 0,
             "ticks": ""
            },
            "colorscale": [
             [
              0,
              "#0d0887"
             ],
             [
              0.1111111111111111,
              "#46039f"
             ],
             [
              0.2222222222222222,
              "#7201a8"
             ],
             [
              0.3333333333333333,
              "#9c179e"
             ],
             [
              0.4444444444444444,
              "#bd3786"
             ],
             [
              0.5555555555555556,
              "#d8576b"
             ],
             [
              0.6666666666666666,
              "#ed7953"
             ],
             [
              0.7777777777777778,
              "#fb9f3a"
             ],
             [
              0.8888888888888888,
              "#fdca26"
             ],
             [
              1,
              "#f0f921"
             ]
            ],
            "type": "heatmap"
           }
          ],
          "heatmapgl": [
           {
            "colorbar": {
             "outlinewidth": 0,
             "ticks": ""
            },
            "colorscale": [
             [
              0,
              "#0d0887"
             ],
             [
              0.1111111111111111,
              "#46039f"
             ],
             [
              0.2222222222222222,
              "#7201a8"
             ],
             [
              0.3333333333333333,
              "#9c179e"
             ],
             [
              0.4444444444444444,
              "#bd3786"
             ],
             [
              0.5555555555555556,
              "#d8576b"
             ],
             [
              0.6666666666666666,
              "#ed7953"
             ],
             [
              0.7777777777777778,
              "#fb9f3a"
             ],
             [
              0.8888888888888888,
              "#fdca26"
             ],
             [
              1,
              "#f0f921"
             ]
            ],
            "type": "heatmapgl"
           }
          ],
          "histogram": [
           {
            "marker": {
             "pattern": {
              "fillmode": "overlay",
              "size": 10,
              "solidity": 0.2
             }
            },
            "type": "histogram"
           }
          ],
          "histogram2d": [
           {
            "colorbar": {
             "outlinewidth": 0,
             "ticks": ""
            },
            "colorscale": [
             [
              0,
              "#0d0887"
             ],
             [
              0.1111111111111111,
              "#46039f"
             ],
             [
              0.2222222222222222,
              "#7201a8"
             ],
             [
              0.3333333333333333,
              "#9c179e"
             ],
             [
              0.4444444444444444,
              "#bd3786"
             ],
             [
              0.5555555555555556,
              "#d8576b"
             ],
             [
              0.6666666666666666,
              "#ed7953"
             ],
             [
              0.7777777777777778,
              "#fb9f3a"
             ],
             [
              0.8888888888888888,
              "#fdca26"
             ],
             [
              1,
              "#f0f921"
             ]
            ],
            "type": "histogram2d"
           }
          ],
          "histogram2dcontour": [
           {
            "colorbar": {
             "outlinewidth": 0,
             "ticks": ""
            },
            "colorscale": [
             [
              0,
              "#0d0887"
             ],
             [
              0.1111111111111111,
              "#46039f"
             ],
             [
              0.2222222222222222,
              "#7201a8"
             ],
             [
              0.3333333333333333,
              "#9c179e"
             ],
             [
              0.4444444444444444,
              "#bd3786"
             ],
             [
              0.5555555555555556,
              "#d8576b"
             ],
             [
              0.6666666666666666,
              "#ed7953"
             ],
             [
              0.7777777777777778,
              "#fb9f3a"
             ],
             [
              0.8888888888888888,
              "#fdca26"
             ],
             [
              1,
              "#f0f921"
             ]
            ],
            "type": "histogram2dcontour"
           }
          ],
          "mesh3d": [
           {
            "colorbar": {
             "outlinewidth": 0,
             "ticks": ""
            },
            "type": "mesh3d"
           }
          ],
          "parcoords": [
           {
            "line": {
             "colorbar": {
              "outlinewidth": 0,
              "ticks": ""
             }
            },
            "type": "parcoords"
           }
          ],
          "pie": [
           {
            "automargin": true,
            "type": "pie"
           }
          ],
          "scatter": [
           {
            "fillpattern": {
             "fillmode": "overlay",
             "size": 10,
             "solidity": 0.2
            },
            "type": "scatter"
           }
          ],
          "scatter3d": [
           {
            "line": {
             "colorbar": {
              "outlinewidth": 0,
              "ticks": ""
             }
            },
            "marker": {
             "colorbar": {
              "outlinewidth": 0,
              "ticks": ""
             }
            },
            "type": "scatter3d"
           }
          ],
          "scattercarpet": [
           {
            "marker": {
             "colorbar": {
              "outlinewidth": 0,
              "ticks": ""
             }
            },
            "type": "scattercarpet"
           }
          ],
          "scattergeo": [
           {
            "marker": {
             "colorbar": {
              "outlinewidth": 0,
              "ticks": ""
             }
            },
            "type": "scattergeo"
           }
          ],
          "scattergl": [
           {
            "marker": {
             "colorbar": {
              "outlinewidth": 0,
              "ticks": ""
             }
            },
            "type": "scattergl"
           }
          ],
          "scattermapbox": [
           {
            "marker": {
             "colorbar": {
              "outlinewidth": 0,
              "ticks": ""
             }
            },
            "type": "scattermapbox"
           }
          ],
          "scatterpolar": [
           {
            "marker": {
             "colorbar": {
              "outlinewidth": 0,
              "ticks": ""
             }
            },
            "type": "scatterpolar"
           }
          ],
          "scatterpolargl": [
           {
            "marker": {
             "colorbar": {
              "outlinewidth": 0,
              "ticks": ""
             }
            },
            "type": "scatterpolargl"
           }
          ],
          "scatterternary": [
           {
            "marker": {
             "colorbar": {
              "outlinewidth": 0,
              "ticks": ""
             }
            },
            "type": "scatterternary"
           }
          ],
          "surface": [
           {
            "colorbar": {
             "outlinewidth": 0,
             "ticks": ""
            },
            "colorscale": [
             [
              0,
              "#0d0887"
             ],
             [
              0.1111111111111111,
              "#46039f"
             ],
             [
              0.2222222222222222,
              "#7201a8"
             ],
             [
              0.3333333333333333,
              "#9c179e"
             ],
             [
              0.4444444444444444,
              "#bd3786"
             ],
             [
              0.5555555555555556,
              "#d8576b"
             ],
             [
              0.6666666666666666,
              "#ed7953"
             ],
             [
              0.7777777777777778,
              "#fb9f3a"
             ],
             [
              0.8888888888888888,
              "#fdca26"
             ],
             [
              1,
              "#f0f921"
             ]
            ],
            "type": "surface"
           }
          ],
          "table": [
           {
            "cells": {
             "fill": {
              "color": "#EBF0F8"
             },
             "line": {
              "color": "white"
             }
            },
            "header": {
             "fill": {
              "color": "#C8D4E3"
             },
             "line": {
              "color": "white"
             }
            },
            "type": "table"
           }
          ]
         },
         "layout": {
          "annotationdefaults": {
           "arrowcolor": "#2a3f5f",
           "arrowhead": 0,
           "arrowwidth": 1
          },
          "autotypenumbers": "strict",
          "coloraxis": {
           "colorbar": {
            "outlinewidth": 0,
            "ticks": ""
           }
          },
          "colorscale": {
           "diverging": [
            [
             0,
             "#8e0152"
            ],
            [
             0.1,
             "#c51b7d"
            ],
            [
             0.2,
             "#de77ae"
            ],
            [
             0.3,
             "#f1b6da"
            ],
            [
             0.4,
             "#fde0ef"
            ],
            [
             0.5,
             "#f7f7f7"
            ],
            [
             0.6,
             "#e6f5d0"
            ],
            [
             0.7,
             "#b8e186"
            ],
            [
             0.8,
             "#7fbc41"
            ],
            [
             0.9,
             "#4d9221"
            ],
            [
             1,
             "#276419"
            ]
           ],
           "sequential": [
            [
             0,
             "#0d0887"
            ],
            [
             0.1111111111111111,
             "#46039f"
            ],
            [
             0.2222222222222222,
             "#7201a8"
            ],
            [
             0.3333333333333333,
             "#9c179e"
            ],
            [
             0.4444444444444444,
             "#bd3786"
            ],
            [
             0.5555555555555556,
             "#d8576b"
            ],
            [
             0.6666666666666666,
             "#ed7953"
            ],
            [
             0.7777777777777778,
             "#fb9f3a"
            ],
            [
             0.8888888888888888,
             "#fdca26"
            ],
            [
             1,
             "#f0f921"
            ]
           ],
           "sequentialminus": [
            [
             0,
             "#0d0887"
            ],
            [
             0.1111111111111111,
             "#46039f"
            ],
            [
             0.2222222222222222,
             "#7201a8"
            ],
            [
             0.3333333333333333,
             "#9c179e"
            ],
            [
             0.4444444444444444,
             "#bd3786"
            ],
            [
             0.5555555555555556,
             "#d8576b"
            ],
            [
             0.6666666666666666,
             "#ed7953"
            ],
            [
             0.7777777777777778,
             "#fb9f3a"
            ],
            [
             0.8888888888888888,
             "#fdca26"
            ],
            [
             1,
             "#f0f921"
            ]
           ]
          },
          "colorway": [
           "#636efa",
           "#EF553B",
           "#00cc96",
           "#ab63fa",
           "#FFA15A",
           "#19d3f3",
           "#FF6692",
           "#B6E880",
           "#FF97FF",
           "#FECB52"
          ],
          "font": {
           "color": "#2a3f5f"
          },
          "geo": {
           "bgcolor": "white",
           "lakecolor": "white",
           "landcolor": "#E5ECF6",
           "showlakes": true,
           "showland": true,
           "subunitcolor": "white"
          },
          "hoverlabel": {
           "align": "left"
          },
          "hovermode": "closest",
          "mapbox": {
           "style": "light"
          },
          "paper_bgcolor": "white",
          "plot_bgcolor": "#E5ECF6",
          "polar": {
           "angularaxis": {
            "gridcolor": "white",
            "linecolor": "white",
            "ticks": ""
           },
           "bgcolor": "#E5ECF6",
           "radialaxis": {
            "gridcolor": "white",
            "linecolor": "white",
            "ticks": ""
           }
          },
          "scene": {
           "xaxis": {
            "backgroundcolor": "#E5ECF6",
            "gridcolor": "white",
            "gridwidth": 2,
            "linecolor": "white",
            "showbackground": true,
            "ticks": "",
            "zerolinecolor": "white"
           },
           "yaxis": {
            "backgroundcolor": "#E5ECF6",
            "gridcolor": "white",
            "gridwidth": 2,
            "linecolor": "white",
            "showbackground": true,
            "ticks": "",
            "zerolinecolor": "white"
           },
           "zaxis": {
            "backgroundcolor": "#E5ECF6",
            "gridcolor": "white",
            "gridwidth": 2,
            "linecolor": "white",
            "showbackground": true,
            "ticks": "",
            "zerolinecolor": "white"
           }
          },
          "shapedefaults": {
           "line": {
            "color": "#2a3f5f"
           }
          },
          "ternary": {
           "aaxis": {
            "gridcolor": "white",
            "linecolor": "white",
            "ticks": ""
           },
           "baxis": {
            "gridcolor": "white",
            "linecolor": "white",
            "ticks": ""
           },
           "bgcolor": "#E5ECF6",
           "caxis": {
            "gridcolor": "white",
            "linecolor": "white",
            "ticks": ""
           }
          },
          "title": {
           "x": 0.05
          },
          "xaxis": {
           "automargin": true,
           "gridcolor": "white",
           "linecolor": "white",
           "ticks": "",
           "title": {
            "standoff": 15
           },
           "zerolinecolor": "white",
           "zerolinewidth": 2
          },
          "yaxis": {
           "automargin": true,
           "gridcolor": "white",
           "linecolor": "white",
           "ticks": "",
           "title": {
            "standoff": 15
           },
           "zerolinecolor": "white",
           "zerolinewidth": 2
          }
         }
        },
        "title": {
         "text": "Empirical Distribution of the TVD"
        },
        "xaxis": {
         "anchor": "y",
         "domain": [
          0,
          1
         ],
         "range": [
          0,
          1.5
         ],
         "title": {
          "text": "0"
         }
        },
        "yaxis": {
         "anchor": "x",
         "domain": [
          0,
          1
         ],
         "title": {
          "text": "probability"
         }
        }
       }
      }
     },
     "metadata": {},
     "output_type": "display_data"
    }
   ],
   "source": [
    "def cause_one_permutation(df):\n",
    "    df = df.copy()\n",
    "    df['CUSTOMERS.AFFECTED'] = np.random.permutation(df['CUSTOMERS.AFFECTED'])\n",
    "    df['CAUSE.CATEGORY']\n",
    "    df.groupby('CAUSE.CATEGORY').count()\n",
    "    df_ca_missing = df[df['CUSTOMERS.AFFECTED'].isna()]\n",
    "    df_ca_not_missing = df[~df['CUSTOMERS.AFFECTED'].isna()]\n",
    "    missing_count = df_ca_missing.groupby('CAUSE.CATEGORY').count()['YEAR']\n",
    "    missing_proportion = pd.Series(np.array(missing_count)/((np.array(missing_count)).sum()), index=missing_count.index)\n",
    "    not_missing_count = df_ca_not_missing.groupby('CAUSE.CATEGORY').count()['YEAR']\n",
    "    not_missing_proportion = pd.Series(np.array(not_missing_count)/((np.array(not_missing_count)).sum()), index=not_missing_count.index)\n",
    "    observed_tvd_statistic = abs(not_missing_proportion - missing_proportion).sum()\n",
    "    return observed_tvd_statistic\n",
    "# do permutation 1000 times\n",
    "result = []\n",
    "for i in range(1000):\n",
    "    result.append(cause_one_permutation(df))\n",
    "fig = px.histogram(pd.DataFrame(result), x=0, nbins=50, histnorm='probability', \n",
    "                   title='Empirical Distribution of the TVD')\n",
    "fig.add_vline(x=observed_tvd_statistic, line_color='red')\n",
    "fig.update_layout(xaxis_range=[0, 1.5])\n"
   ]
  },
  {
   "cell_type": "code",
   "execution_count": 66,
   "metadata": {},
   "outputs": [
    {
     "data": {
      "text/html": [
       "<div>\n",
       "<style scoped>\n",
       "    .dataframe tbody tr th:only-of-type {\n",
       "        vertical-align: middle;\n",
       "    }\n",
       "\n",
       "    .dataframe tbody tr th {\n",
       "        vertical-align: top;\n",
       "    }\n",
       "\n",
       "    .dataframe thead th {\n",
       "        text-align: right;\n",
       "    }\n",
       "</style>\n",
       "<table border=\"1\" class=\"dataframe\">\n",
       "  <thead>\n",
       "    <tr style=\"text-align: right;\">\n",
       "      <th></th>\n",
       "      <th>OBS</th>\n",
       "      <th>YEAR</th>\n",
       "      <th>MONTH</th>\n",
       "      <th>U.S._STATE</th>\n",
       "      <th>POSTAL.CODE</th>\n",
       "      <th>NERC.REGION</th>\n",
       "      <th>CLIMATE.REGION</th>\n",
       "      <th>ANOMALY.LEVEL(numeric)</th>\n",
       "      <th>CLIMATE.CATEGORY</th>\n",
       "      <th>OUTAGE.START.DATE(Day of the week, Month Day, Year)</th>\n",
       "      <th>...</th>\n",
       "      <th>POPDEN_URBAN(persons per square mile)</th>\n",
       "      <th>POPDEN_UC(persons per square mile)</th>\n",
       "      <th>POPDEN_RURAL(persons per square mile)</th>\n",
       "      <th>AREAPCT_URBAN(%)</th>\n",
       "      <th>AREAPCT_UC(%)</th>\n",
       "      <th>PCT_LAND(%)</th>\n",
       "      <th>PCT_WATER_TOT(%)</th>\n",
       "      <th>PCT_WATER_INLAND(%)</th>\n",
       "      <th>OUTAGE.START</th>\n",
       "      <th>OUTAGE.RESTORATION</th>\n",
       "    </tr>\n",
       "  </thead>\n",
       "  <tbody>\n",
       "  </tbody>\n",
       "</table>\n",
       "<p>0 rows × 58 columns</p>\n",
       "</div>"
      ],
      "text/plain": [
       "Empty DataFrame\n",
       "Columns: [OBS, YEAR, MONTH, U.S._STATE, POSTAL.CODE, NERC.REGION, CLIMATE.REGION, ANOMALY.LEVEL(numeric), CLIMATE.CATEGORY, OUTAGE.START.DATE(Day of the week, Month Day, Year), OUTAGE.START.TIME(Hour:Minute:Second (AM / PM)), OUTAGE.RESTORATION.DATE(Day of the week, Month Day, Year), OUTAGE.RESTORATION.TIME(Hour:Minute:Second (AM / PM)), CAUSE.CATEGORY, CAUSE.CATEGORY.DETAIL, HURRICANE.NAMES, OUTAGE.DURATION(mins), DEMAND.LOSS.MW(Megawatt), CUSTOMERS.AFFECTED, RES.PRICE(cents / kilowatt-hour), COM.PRICE(cents / kilowatt-hour), IND.PRICE(cents / kilowatt-hour), TOTAL.PRICE(cents / kilowatt-hour), RES.SALES(Megawatt-hour), COM.SALES(Megawatt-hour), IND.SALES(Megawatt-hour), TOTAL.SALES(Megawatt-hour), RES.PERCEN(%), COM.PERCEN(%), IND.PERCEN(%), RES.CUSTOMERS, COM.CUSTOMERS, IND.CUSTOMERS, TOTAL.CUSTOMERS, RES.CUST.PCT(%), COM.CUST.PCT(%), IND.CUST.PCT(%), PC.REALGSP.STATE(USD), PC.REALGSP.USA(USD), PC.REALGSP.REL(fraction), PC.REALGSP.CHANGE(%), UTIL.REALGSP(USD), TOTAL.REALGSP(USD), UTIL.CONTRI(%), PI.UTIL.OFUSA(%), POPULATION, POPPCT_URBAN(%), POPPCT_UC(%), POPDEN_URBAN(persons per square mile), POPDEN_UC(persons per square mile), POPDEN_RURAL(persons per square mile), AREAPCT_URBAN(%), AREAPCT_UC(%), PCT_LAND(%), PCT_WATER_TOT(%), PCT_WATER_INLAND(%), OUTAGE.START, OUTAGE.RESTORATION]\n",
       "Index: []\n",
       "\n",
       "[0 rows x 58 columns]"
      ]
     },
     "execution_count": 66,
     "metadata": {},
     "output_type": "execute_result"
    }
   ],
   "source": []
  },
  {
   "attachments": {},
   "cell_type": "markdown",
   "metadata": {},
   "source": [
    "### Hypothesis Testing"
   ]
  },
  {
   "cell_type": "code",
   "execution_count": 7,
   "metadata": {
    "ExecuteTime": {
     "end_time": "2019-10-31T23:36:28.666489Z",
     "start_time": "2019-10-31T23:36:28.664381Z"
    }
   },
   "outputs": [],
   "source": [
    "# TODO"
   ]
  }
 ],
 "metadata": {
  "kernelspec": {
   "display_name": "Python 3 (ipykernel)",
   "language": "python",
   "name": "python3"
  },
  "language_info": {
   "codemirror_mode": {
    "name": "ipython",
    "version": 3
   },
   "file_extension": ".py",
   "mimetype": "text/x-python",
   "name": "python",
   "nbconvert_exporter": "python",
   "pygments_lexer": "ipython3",
   "version": "3.8.16"
  }
 },
 "nbformat": 4,
 "nbformat_minor": 2
}
